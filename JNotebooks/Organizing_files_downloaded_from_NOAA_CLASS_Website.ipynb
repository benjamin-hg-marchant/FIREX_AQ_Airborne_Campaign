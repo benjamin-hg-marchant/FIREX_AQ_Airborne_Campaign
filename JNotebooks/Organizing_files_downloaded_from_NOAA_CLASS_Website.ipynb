{
 "cells": [
  {
   "cell_type": "markdown",
   "id": "19405582",
   "metadata": {},
   "source": [
    "<div style=\"background-color:#3c3d41;padding:30px;border-radius:5px\">\n",
    "\n",
    "<h1 style=\"font-size:22px;color:white;margin-top:0px\">\n",
    "Organizing the files downloaded from the NOAA CLASS website\n",
    "</h1>\n",
    "\n",
    "<p style=\"font-size:14px;color:white\">\n",
    "Author: Benjamin Marchant<br>\n",
    "License: CC BY 4.0\n",
    "</p>\n",
    "  \n",
    "</div>"
   ]
  },
  {
   "cell_type": "code",
   "execution_count": 1,
   "id": "bd73cbda",
   "metadata": {},
   "outputs": [],
   "source": [
    "import netCDF4\n",
    "import numpy as np\n",
    "import numpy.ma as ma\n",
    "import pandas as pd\n",
    "import glob\n",
    "import re\n",
    "import os\n",
    "import warnings\n",
    "\n",
    "warnings.filterwarnings('ignore')"
   ]
  },
  {
   "cell_type": "code",
   "execution_count": 2,
   "id": "fc7d539f",
   "metadata": {},
   "outputs": [],
   "source": [
    "media_path = '/Volumes/HD15TB/Datasets/Research/NOAA'"
   ]
  },
  {
   "cell_type": "code",
   "execution_count": 3,
   "id": "327d30de",
   "metadata": {},
   "outputs": [],
   "source": [
    "class_order_path = '/Volumes/HD15TB/Datasets/Research/NOAA/class_order'"
   ]
  },
  {
   "cell_type": "code",
   "execution_count": 4,
   "id": "ce8b09e4",
   "metadata": {},
   "outputs": [
    {
     "name": "stdout",
     "output_type": "stream",
     "text": [
      "1197\n"
     ]
    }
   ],
   "source": [
    "files = glob.glob('{}/*'.format(class_order_path))\n",
    "\n",
    "print( len(files) )"
   ]
  },
  {
   "cell_type": "code",
   "execution_count": 6,
   "id": "9eab07aa",
   "metadata": {},
   "outputs": [
    {
     "name": "stdout",
     "output_type": "stream",
     "text": [
      "CPU times: user 55.9 ms, sys: 418 ms, total: 474 ms\n",
      "Wall time: 12.9 s\n"
     ]
    }
   ],
   "source": [
    "%%time\n",
    "\n",
    "instrument = 'VIIRS'\n",
    "\n",
    "for idx,file in enumerate(files):\n",
    "#for idx,file in enumerate(files[:5]):\n",
    "    \n",
    "    #print(file)\n",
    "    filename = file.split('/')[-1]\n",
    "    #print(filename)\n",
    "\n",
    "    ext = filename.split('.')[-1]\n",
    "\n",
    "    product = filename.split('.')[0].split('_')[0]    \n",
    "    \n",
    "    if 'npp_' in filename: platform = 'NPP'\n",
    "    if 'j01_' in filename: platform = 'J01' \n",
    "    if 'j02_' in filename: platform = 'J02' \n",
    "        \n",
    "    #platform = filename.split('.')[0].split('_')[2]\n",
    "    #platform = platform.upper()\n",
    "    \n",
    "    output_dir = '{}/{}'.format(media_path,platform)\n",
    "    if not os.path.exists(output_dir):\n",
    "        cmd = 'mkdir {}'.format(output_dir)\n",
    "        os.system(cmd)\n",
    "    \n",
    "    output_dir = '{}/{}/{}'.format(media_path,platform,instrument)\n",
    "    if not os.path.exists(output_dir):\n",
    "        cmd = 'mkdir {}'.format(output_dir)\n",
    "        os.system(cmd)\n",
    "\n",
    "    output_dir = '{}/{}/{}/{}'.format(media_path,platform,instrument,product)\n",
    "    if not os.path.exists(output_dir):\n",
    "        cmd = 'mkdir {}'.format(output_dir)\n",
    "        os.system(cmd)  \n",
    "\n",
    "    timestamp = re.compile(\"_d(.*)_t\")\n",
    "    obj = timestamp.search(filename)\n",
    "    #print(obj.group(1))\n",
    "        \n",
    "    #start_time = filename.split('/')[-1].split('_')[3]\n",
    "    start_time = obj.group(1)\n",
    "\n",
    "    granule_year = int( start_time[0:4] )\n",
    "    granule_month = int(start_time[4:6] )\n",
    "    granule_day = int(start_time[6:8] )\n",
    "\n",
    "    output_dir = '{}/{}/{}/{}/{}'.format(media_path,platform,instrument,product,granule_year)\n",
    "    if not os.path.exists(output_dir):\n",
    "        cmd = 'mkdir {}'.format(output_dir)\n",
    "        os.system(cmd)\n",
    "    \n",
    "    date = '{:04d}_{:02d}_{:02d}'.format(granule_year,granule_month,granule_day)\n",
    "    \n",
    "    #print(platform,instrument,product,granule_year,date)\n",
    "    \n",
    "    output_dir = '{}/{}/{}/{}/{}/{}'.format(media_path,platform,instrument,product,granule_year,date)\n",
    "    if not os.path.exists(output_dir):\n",
    "        cmd = 'mkdir {}'.format(output_dir)\n",
    "        os.system(cmd)\n",
    "    \n",
    "    cmd = 'mv {} {}/.'.format(file,output_dir)\n",
    "    \n",
    "    #print(cmd)\n",
    "    \n",
    "    os.system(cmd)"
   ]
  },
  {
   "cell_type": "code",
   "execution_count": null,
   "id": "9f2eff9c",
   "metadata": {},
   "outputs": [],
   "source": []
  },
  {
   "cell_type": "code",
   "execution_count": null,
   "id": "20b8dc67",
   "metadata": {},
   "outputs": [],
   "source": []
  },
  {
   "cell_type": "code",
   "execution_count": null,
   "id": "e215da82",
   "metadata": {},
   "outputs": [],
   "source": []
  }
 ],
 "metadata": {
  "kernelspec": {
   "display_name": "worklab",
   "language": "python",
   "name": "worklab"
  },
  "language_info": {
   "codemirror_mode": {
    "name": "ipython",
    "version": 3
   },
   "file_extension": ".py",
   "mimetype": "text/x-python",
   "name": "python",
   "nbconvert_exporter": "python",
   "pygments_lexer": "ipython3",
   "version": "3.9.12"
  }
 },
 "nbformat": 4,
 "nbformat_minor": 5
}
